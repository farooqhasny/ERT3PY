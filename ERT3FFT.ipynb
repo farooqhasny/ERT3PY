{
  "nbformat": 4,
  "nbformat_minor": 0,
  "metadata": {
    "colab": {
      "name": "ERT3FFT.ipynb",
      "provenance": [],
      "toc_visible": true,
      "authorship_tag": "ABX9TyM9XJG0suGKmCDdpCbEw5H6",
      "include_colab_link": true
    },
    "kernelspec": {
      "name": "python3",
      "display_name": "Python 3"
    },
    "language_info": {
      "name": "python"
    }
  },
  "cells": [
    {
      "cell_type": "markdown",
      "metadata": {
        "id": "view-in-github",
        "colab_type": "text"
      },
      "source": [
        "<a href=\"https://colab.research.google.com/github/farooqhasny/ERT3PY/blob/main/ERT3FFT.ipynb\" target=\"_parent\"><img src=\"https://colab.research.google.com/assets/colab-badge.svg\" alt=\"Open In Colab\"/></a>"
      ]
    },
    {
      "cell_type": "code",
      "metadata": {
        "id": "rgVX1jf4cKQv"
      },
      "source": [
        "#%matplotlib inline\n",
        "import numpy as np\n",
        "import matplotlib.pyplot as plt\n",
        "# import scipy.fftpack\n",
        "import sys\n",
        "import time"
      ],
      "execution_count": 31,
      "outputs": []
    },
    {
      "cell_type": "code",
      "metadata": {
        "id": "YQKf1b2WcTYX"
      },
      "source": [
        "# Number of samplepoints\n",
        "Fs = 100            # sampling frequency\n",
        "Ts = 2              # sample duration\n",
        "N = Fs * Ts         # total samples\n",
        "T = 1.0 / N         # sample spacing\n",
        "t0 = time.time()\n",
        "x = np.linspace(0.0, N*T, N)\n",
        "y = np.sin(30.0 * 2.0*np.pi*x)+ 0.5*np.sin(80.0 * 2.0*np.pi*x)+ 0.7*np.sin(90.0 * 2.0*np.pi*x)"
      ],
      "execution_count": 32,
      "outputs": []
    },
    {
      "cell_type": "code",
      "metadata": {
        "colab": {
          "base_uri": "https://localhost:8080/",
          "height": 301
        },
        "id": "I8fa3Rbtqgiq",
        "outputId": "736fd647-28d2-42a0-93c5-235bb55e082e"
      },
      "source": [
        "t1 = time.time()\n",
        "yf = np.fft.fft(y)\n",
        "xf = np.linspace(0.0, 1.0//(2.0*T), N//2)\n",
        "fig, ax = plt.subplots()\n",
        "# ax.plot(xf, 2.0/N * np.abs(yf[:N//2]))\n",
        "print(\"xf \",xf.shape,N,yf.shape)\n",
        "ax.plot(xf, 2.0/N * np.abs(yf[:N//2]))\n",
        "plt.show()\n",
        "\n",
        "print( t1-t0,\" Sec\")"
      ],
      "execution_count": 34,
      "outputs": [
        {
          "output_type": "stream",
          "name": "stdout",
          "text": [
            "xf  (100,) 200 (200,)\n"
          ]
        },
        {
          "output_type": "display_data",
          "data": {
            "image/png": "[encoded data removed]",
            "text/plain": [
              "<Figure size 432x288 with 1 Axes>"
            ]
          },
          "metadata": {
            "needs_background": "light"
          }
        },
        {
          "output_type": "stream",
          "name": "stdout",
          "text": [
            "20.768922567367554  Sec\n"
          ]
        }
      ]
    }
  ]
}