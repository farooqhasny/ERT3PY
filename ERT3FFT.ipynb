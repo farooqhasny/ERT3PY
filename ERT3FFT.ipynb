{
  "nbformat": 4,
  "nbformat_minor": 0,
  "metadata": {
    "colab": {
      "name": "ERT3FFT.ipynb",
      "provenance": [],
      "toc_visible": true,
      "authorship_tag": "ABX9TyP32HTAMijkPQFsF/lVFnGc",
      "include_colab_link": true
    },
    "kernelspec": {
      "name": "python3",
      "display_name": "Python 3"
    },
    "language_info": {
      "name": "python"
    }
  },
  "cells": [
    {
      "cell_type": "markdown",
      "metadata": {
        "id": "view-in-github",
        "colab_type": "text"
      },
      "source": [
        "<a href=\"https://colab.research.google.com/github/farooqhasny/ERT3PY/blob/main/ERT3FFT.ipynb\" target=\"_parent\"><img src=\"https://colab.research.google.com/assets/colab-badge.svg\" alt=\"Open In Colab\"/></a>"
      ]
    },
    {
      "cell_type": "code",
      "metadata": {
        "id": "rgVX1jf4cKQv"
      },
      "source": [
        "#%matplotlib inline\n",
        "import numpy as np\n",
        "import matplotlib.pyplot as plt\n",
        "# import scipy.fftpack\n",
        "import sys\n",
        "import time"
      ],
      "execution_count": 5,
      "outputs": []
    },
    {
      "cell_type": "code",
      "metadata": {
        "colab": {
          "base_uri": "https://localhost:8080/",
          "height": 300
        },
        "id": "YQKf1b2WcTYX",
        "outputId": "90c72b11-2054-4afc-c427-ec9287c39a87"
      },
      "source": [
        "# Number of samplepoints\n",
        "N = 5000\n",
        "# sample spacing\n",
        "T = 1.0 /200\n",
        "t0 = time.time()\n",
        "x = np.linspace(0.0, N*T, N)\n",
        "print(x.shape,N*T)\n",
        "y = np.sin(50.0 * 2.0*np.pi*x)+ 0.5*np.sin(80.0 * 2.0*np.pi*x)+ 0.7*np.sin(90.0 * 2.0*np.pi*x)\n",
        "t1 = time.time()\n",
        "yf = np.fft.fft(y)\n",
        "xf = np.linspace(0.0, 1.0//(2.0*T), N//2)\n",
        "fig, ax = plt.subplots()\n",
        "ax.plot(xf, 2.0/N * np.abs(yf[:N//2]))\n",
        "plt.show()\n",
        "total = t1-t0\n",
        "\n",
        "\n",
        "print(total)"
      ],
      "execution_count": 17,
      "outputs": [
        {
          "output_type": "stream",
          "name": "stdout",
          "text": [
            "(5000,) 25.0\n"
          ]
        },
        {
          "output_type": "display_data",
          "data": {
            "image/png": "[encoded data removed]",
            "text/plain": [
              "<Figure size 432x288 with 1 Axes>"
            ]
          },
          "metadata": {
            "needs_background": "light"
          }
        },
        {
          "output_type": "stream",
          "name": "stdout",
          "text": [
            "0.0031282901763916016\n"
          ]
        }
      ]
    },
    {
      "cell_type": "code",
      "metadata": {
        "id": "I8ytZzvVbZyR"
      },
      "source": [
        "# y1 = np.sin(50.0 * 2.0*np.pi*x[0:N//3])\n",
        "# y2 =np.sin(70.0 * 2.0*np.pi*x[N//3:N])\n",
        "# y= np.concatenate((y1, y2))\n",
        "# print(y1.shape,\"<<<<<\",y2.shape,\"<<<<<<<<<<<<\",y.shape)\n",
        "# y = np.random.rand(6000)*0.5\n",
        "# y = np.ones(6000) *7\n",
        "# y = np.random.normal(0,0.1,6000)\n",
        "# y = np.ones(6000)\n",
        "# yf = scipy.fftpack.fft(y)\n",
        "# yf = np.fft.fft(y)\n",
        "# yf = np.fft.ifft(y1)\n",
        "# print(yf.shape)\n",
        "# xf = np.linspace(0.0, 1.0//(2.0*T), N//2)\n",
        "# print(xf.shape)\n",
        "# print(\"size of x\",sys.getsizeof(y),y.shape)\n",
        "# fig, ax = plt.subplots()\n",
        "# ax.plot(xf, 2.0/N * np.abs(yf[:N//2]))\n",
        "# plt.show()"
      ],
      "execution_count": null,
      "outputs": []
    },
    {
      "cell_type": "code",
      "metadata": {
        "id": "8TKWYLaEcHDH"
      },
      "source": [
        ""
      ],
      "execution_count": null,
      "outputs": []
    }
  ]
}