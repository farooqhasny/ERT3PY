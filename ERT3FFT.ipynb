{
  "nbformat": 4,
  "nbformat_minor": 0,
  "metadata": {
    "colab": {
      "name": "ERT3FFT.ipynb",
      "provenance": [],
      "toc_visible": true,
      "authorship_tag": "ABX9TyOY/DdsiwSAS4yaWJMexklI",
      "include_colab_link": true
    },
    "kernelspec": {
      "name": "python3",
      "display_name": "Python 3"
    },
    "language_info": {
      "name": "python"
    }
  },
  "cells": [
    {
      "cell_type": "markdown",
      "metadata": {
        "id": "view-in-github",
        "colab_type": "text"
      },
      "source": [
        "<a href=\"https://colab.research.google.com/github/farooqhasny/ERT3PY/blob/main/ERT3FFT.ipynb\" target=\"_parent\"><img src=\"https://colab.research.google.com/assets/colab-badge.svg\" alt=\"Open In Colab\"/></a>"
      ]
    },
    {
      "cell_type": "code",
      "metadata": {
        "id": "rgVX1jf4cKQv"
      },
      "source": [
        "#%matplotlib inline\n",
        "import numpy as np\n",
        "import matplotlib.pyplot as plt\n",
        "# import scipy.fftpack\n",
        "import sys\n",
        "import time"
      ],
      "execution_count": 46,
      "outputs": []
    },
    {
      "cell_type": "code",
      "metadata": {
        "id": "YQKf1b2WcTYX"
      },
      "source": [
        "# Number of samplepoints\n",
        "Fs = 1000           # sampling frequency maximum measured freq will be half of Fs\n",
        "Ts = 2             # sample duration\n",
        "N = Fs * Ts        # total samples\n",
        "T = 1.0 / Fs       # sample spacing\n",
        "t0 = time.time()\n",
        "x = np.linspace(0.0, N*T, N)\n",
        "y1 = np.sin(2 * 2.0*np.pi*x)\n",
        "y2 = np.sin(80.0 * 2.0*np.pi*x)\n",
        "y3 = np.sin(100.0 * 2.0*np.pi*x)\n",
        "\n",
        "y1[x <= 0.5] = y2[x > 1] = 0\n",
        "y = y1+y2+y3\n",
        "\n"
      ],
      "execution_count": 73,
      "outputs": []
    },
    {
      "cell_type": "code",
      "metadata": {
        "colab": {
          "base_uri": "https://localhost:8080/",
          "height": 300
        },
        "id": "I8fa3Rbtqgiq",
        "outputId": "fd4c7402-a928-4c83-bf00-0065411f8859"
      },
      "source": [
        "t1 = time.time()\n",
        "yf = np.fft.fft(y)\n",
        "xf = np.linspace(0.0, 1.0//(2.0*T), N//2)\n",
        "fig, ax = plt.subplots()\n",
        "# ax.plot(xf, 2.0/N * np.abs(yf[:N//2]))\n",
        "print(\"xf \",xf.shape,N,yf.shape)\n",
        "ax.plot(xf, 2.0/N * np.abs(yf[:N//2]))\n",
        "plt.show()\n",
        "\n",
        "print( t1-t0,\" Sec\")"
      ],
      "execution_count": 74,
      "outputs": [
        {
          "output_type": "stream",
          "name": "stdout",
          "text": [
            "xf  (1000,) 2000 (2000,)\n"
          ]
        },
        {
          "output_type": "display_data",
          "data": {
            "image/png": "[encoded data removed]",
            "text/plain": [
              "<Figure size 432x288 with 1 Axes>"
            ]
          },
          "metadata": {
            "needs_background": "light"
          }
        },
        {
          "output_type": "stream",
          "name": "stdout",
          "text": [
            "2.891396999359131  Sec\n"
          ]
        }
      ]
    },
    {
      "cell_type": "code",
      "metadata": {
        "colab": {
          "base_uri": "https://localhost:8080/",
          "height": 265
        },
        "id": "zmpa2ZJRfeb2",
        "outputId": "dad4354d-21f8-4dce-865d-0a70d4769cc7"
      },
      "source": [
        "# Fixing random state for reproducibility\n",
        "np.random.seed(19680801)\n",
        "\n",
        "dt = 0.0005\n",
        "t = np.arange(0.0, 20.0, dt)\n",
        "s1 = np.sin(2 * np.pi * 100 * t)\n",
        "s2 = 2 * np.sin(2 * np.pi * 400 * t)\n",
        "\n",
        "# create a transient \"chirp\"\n",
        "s2[t <= 10] = s2[12 <= t] = 0\n",
        "\n",
        "# add some noise into the mix\n",
        "nse = 0.01 * np.random.random(size=len(t))\n",
        "\n",
        "x = s1 + s2 # + nse  # the signal\n",
        "NFFT = 1024  # the length of the windowing segments\n",
        "Fs = int(1.0 / dt)  # the sampling frequency\n",
        "\n",
        "fig, (ax1, ax2) = plt.subplots(nrows=2)\n",
        "ax1.plot(t, x)\n",
        "Pxx, freqs, bins, im = ax2.specgram(x, NFFT=NFFT, Fs=Fs, noverlap=900)\n",
        "# The `specgram` method returns 4 objects. They are:\n",
        "# - Pxx: the periodogram\n",
        "# - freqs: the frequency vector\n",
        "# - bins: the centers of the time bins\n",
        "# - im: the .image.AxesImage instance representing the data in the plot\n",
        "plt.show()"
      ],
      "execution_count": 75,
      "outputs": [
        {
          "output_type": "display_data",
          "data": {
            "image/png": "[encoded data removed]",
            "text/plain": [
              "<Figure size 432x288 with 2 Axes>"
            ]
          },
          "metadata": {
            "needs_background": "light"
          }
        }
      ]
    }
  ]
}